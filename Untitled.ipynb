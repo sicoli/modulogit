{
 "cells": [
  {
   "cell_type": "code",
   "execution_count": 1,
   "id": "affected-producer",
   "metadata": {},
   "outputs": [
    {
     "ename": "SyntaxError",
     "evalue": "invalid syntax (<ipython-input-1-c7a1b683aa76>, line 1)",
     "output_type": "error",
     "traceback": [
      "\u001b[0;36m  File \u001b[0;32m\"<ipython-input-1-c7a1b683aa76>\"\u001b[0;36m, line \u001b[0;32m1\u001b[0m\n\u001b[0;31m    streamlit hello\u001b[0m\n\u001b[0m              ^\u001b[0m\n\u001b[0;31mSyntaxError\u001b[0m\u001b[0;31m:\u001b[0m invalid syntax\n"
     ]
    }
   ],
   "source": [
    "streamlit hello\n"
   ]
  },
  {
   "cell_type": "code",
   "execution_count": 2,
   "id": "revolutionary-vanilla",
   "metadata": {},
   "outputs": [
    {
     "name": "stderr",
     "output_type": "stream",
     "text": [
      "2021-03-15 09:02:52.377 WARNING root: \n",
      "  \u001b[33m\u001b[1mWarning:\u001b[0m to view this Streamlit app on a browser, run it with the following\n",
      "  command:\n",
      "\n",
      "    streamlit run /home/alesicoli/.local/lib/python3.8/site-packages/ipykernel_launcher.py [ARGUMENTS]\n"
     ]
    },
    {
     "data": {
      "text/plain": [
       "False"
      ]
     },
     "execution_count": 2,
     "metadata": {},
     "output_type": "execute_result"
    }
   ],
   "source": [
    "import streamlit as st\n",
    "import time\n",
    "import numpy as np\n",
    "\n",
    "progress_bar = st.sidebar.progress(0)\n",
    "status_text = st.sidebar.empty()\n",
    "last_rows = np.random.randn(1, 1)\n",
    "chart = st.line_chart(last_rows)\n",
    "\n",
    "for i in range(1, 101):\n",
    "    new_rows = last_rows[-1, :] + np.random.randn(5, 1).cumsum(axis=0)\n",
    "    status_text.text(\"%i%% Complete\" % i)\n",
    "    chart.add_rows(new_rows)\n",
    "    progress_bar.progress(i)\n",
    "    last_rows = new_rows\n",
    "    time.sleep(0.05)\n",
    "\n",
    "progress_bar.empty()\n",
    "\n",
    "# Streamlit widgets automatically run the script from top to bottom. Since\n",
    "# this button is not connected to any other logic, it just causes a plain\n",
    "# rerun.\n",
    "st.button(\"Re-run\")"
   ]
  },
  {
   "cell_type": "code",
   "execution_count": null,
   "id": "adult-impact",
   "metadata": {},
   "outputs": [],
   "source": []
  },
  {
   "cell_type": "code",
   "execution_count": null,
   "id": "local-guest",
   "metadata": {},
   "outputs": [],
   "source": []
  }
 ],
 "metadata": {
  "kernelspec": {
   "display_name": "Python 3",
   "language": "python",
   "name": "python3"
  },
  "language_info": {
   "codemirror_mode": {
    "name": "ipython",
    "version": 3
   },
   "file_extension": ".py",
   "mimetype": "text/x-python",
   "name": "python",
   "nbconvert_exporter": "python",
   "pygments_lexer": "ipython3",
   "version": "3.8.6"
  }
 },
 "nbformat": 4,
 "nbformat_minor": 5
}
